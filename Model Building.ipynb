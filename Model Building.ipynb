{
 "cells": [
  {
   "cell_type": "markdown",
   "id": "6f7e044b",
   "metadata": {},
   "source": [
    "## Model building"
   ]
  },
  {
   "cell_type": "code",
   "execution_count": 3,
   "id": "3d32fe31",
   "metadata": {},
   "outputs": [],
   "source": [
    "import pandas as pd\n",
    "import numpy as np\n",
    "import requests\n",
    "import seaborn as sns\n",
    "import geopandas as gpd\n",
    "import matplotlib.pyplot as plt\n",
    "from sklearn.preprocessing import StandardScaler\n",
    "from scipy.stats import norm\n",
    "from scipy import stats\n",
    "from datetime import datetime, timedelta\n",
    "import pylab\n",
    "\n",
    "from sklearn.model_selection import train_test_split\n",
    "from sklearn import metrics\n",
    "from sklearn.model_selection import cross_val_score\n",
    "from sklearn.linear_model import LinearRegression\n",
    "from sklearn.linear_model import Ridge\n",
    "from sklearn.pipeline import Pipeline\n",
    "from sklearn.linear_model import Lasso"
   ]
  },
  {
   "cell_type": "markdown",
   "id": "e99c55a0",
   "metadata": {},
   "source": [
    "<a id=\"intro\"></a>\n",
    "\n",
    "## Contents\n",
    "\n",
    "[Functions](#functions)<br>\n",
    "[Normalization](#norm)<br>\n",
    "[Model Building](#model)<br>\n",
    "[Conclusions](#conc)<br>"
   ]
  },
  {
   "cell_type": "markdown",
   "id": "9a5f7b75",
   "metadata": {},
   "source": [
    "#### Functions <a id=\"functions\" ></a>\n",
    "\n",
    "[Back to contents](#intro)"
   ]
  },
  {
   "cell_type": "code",
   "execution_count": 11,
   "id": "d22d481f",
   "metadata": {},
   "outputs": [],
   "source": [
    "nyc_gdf = gpd.read_file(\"./shp/taxi_zones.shp\")\n",
    "look_up = pd.read_csv(\"taxi+_zone_lookup.csv\")\n",
    "\n",
    "def clean_yellow_taxi_data(df):\n",
    "    \"\"\"Given a yellow taxi df applies the transformations described in Data exploration and cleaning notebook\"\"\"\n",
    "    \n",
    "    df = df.drop(df[df.tpep_pickup_datetime.dt.month.isin([12, 1])].index)\n",
    "    df = df.drop(df[df.tpep_pickup_datetime.dt.year != 2017].index)\n",
    "    \n",
    "    # drop duplicates\n",
    "    df = df.drop_duplicates()\n",
    "    \n",
    "    # $1.25 for trips from LaGuardia and JFK airports\n",
    "    df.loc[df[\"PULocationID\"].\n",
    "                        isin(nyc_gdf[nyc_gdf[\"zone\"].isin([\"LaGuardia Airport\", \"JFK Airport\"])].loc[:, \"LocationID\"].to_list()), \"airport_fee\"] = 1.25\n",
    "    \n",
    "    df[\"fare_amount\"] = abs(df[\"fare_amount\"])\n",
    "    df[\"tip_amount\"] = abs(df[\"tip_amount\"])\n",
    "    df[\"tolls_amount\"] = abs(df[\"tolls_amount\"])\n",
    "    df[\"total_amount\"] = abs(df[\"total_amount\"])\n",
    "    \n",
    "    # drop trips with more than 9 passengers\n",
    "    df = df.drop(df[df.passenger_count > 9].index)\n",
    "    \n",
    "    # non-zero values of MTA_tax and Improvement_surcharge to 0.5 and 0.3 respectivelly\n",
    "    df.loc[df[\"mta_tax\"] != 0, \"mta_tax\"] = 0.5\n",
    "    df.loc[df[\"improvement_surcharge\"] != 0, \"improvement_surcharge\"] = 0.3\n",
    "    \n",
    "    # drop super expensive-short and super cheap-long trips\n",
    "    df = df.drop(df[df.trip_distance > 4000].index)\n",
    "    df = df.drop(df[df.total_amount > 3000].index)\n",
    "    \n",
    "    # voided trips\n",
    "    df.loc[df[(df.trip_distance == 0) & (df.total_amount == 0)].index, \"payment_type\"] = 6\n",
    "    \n",
    "    # drop errors\n",
    "    df = df.drop(df[(df.trip_distance == 0) & (df.payment_type != 6)].index)\n",
    "    df = df.drop(df[(df.total_amount == 0) & (df.payment_type != 6)].index)\n",
    "    \n",
    "    # Let's create some new variables\n",
    "    df[\"travel_time\"] = df[\"tpep_dropoff_datetime\"] - df[\"tpep_pickup_datetime\"]\n",
    "    df[\"travel_time_hour\"] = df['travel_time'] / np.timedelta64(1, 'h')\n",
    "    df[\"avg_speed\"] = df[\"trip_distance\"] / df[\"travel_time_hour\"]\n",
    "    df[\"dollar_per_mile\"] = df[\"total_amount\"] / df[\"trip_distance\"]\n",
    "    \n",
    "    # drop errors\n",
    "    df = df.drop(df[df.travel_time_hour <= 0].index)\n",
    "    df = df.drop(df[df.travel_time_hour > 200].index)\n",
    "    df = df.drop(df[df.avg_speed >= 93].index)\n",
    "    \n",
    "    # drop ratecode id > 6\n",
    "    df = df.drop(df[df.RatecodeID > 6].index)\n",
    "    \n",
    "    # rate code ID\n",
    "    df.loc[(df['RatecodeID'] != 3) & ((df['PULocationID'] == 1) | ((df['DOLocationID'] == 1))), \"RatecodeID\"] = 3\n",
    "    df.loc[(df['RatecodeID'] != 4) & ((df['PULocationID'] == 250) | ((df['DOLocationID'] == 250))), \"RatecodeID\"] = 4\n",
    "    df.loc[(df['RatecodeID'] != 2) & ((df['PULocationID'] == 132) | ((df['DOLocationID'] == 132))), \"RatecodeID\"] = 2\n",
    "    \n",
    "    df['weekday'] = df['tpep_pickup_datetime'].dt.dayofweek\n",
    "    df['hour'] = df['tpep_pickup_datetime'].dt.hour\n",
    "    df.loc[(df['tpep_pickup_datetime'].dt.hour >= 0) & \n",
    "                        (df['tpep_pickup_datetime'].dt.hour <= 6), \"period\"] = \"night\"\n",
    "    df.loc[(df['tpep_pickup_datetime'].dt.hour > 6) & \n",
    "                        (df['tpep_pickup_datetime'].dt.hour <= 12), \"period\"] = \"morning\"\n",
    "    df.loc[(df['tpep_pickup_datetime'].dt.hour > 12) & \n",
    "                        (df['tpep_pickup_datetime'].dt.hour <= 17), \"period\"] = \"afternoon\"\n",
    "    df.loc[(df['tpep_pickup_datetime'].dt.hour > 17) & \n",
    "                        (df['tpep_pickup_datetime'].dt.hour <= 24), \"period\"] = \"evening\"\n",
    "    \n",
    "    return df\n",
    "    \n",
    "    \n",
    "\n",
    "def get_cleaned_data(month_request, year):\n",
    "    \"\"\"Given a list of months and a year, check if the data is dowloaded or download it in order to create the df\"\"\"\n",
    "    dates = [datetime(day= 1, month = month_request[month], year = year) for month in range(0,3)]\n",
    "    \n",
    "    taxi_trips = pd.DataFrame()\n",
    "    for month in dates:\n",
    "        date = str(month.year) + str(\"-\") + str('{:02d}'.format(month.month))\n",
    "        \n",
    "        try:\n",
    "            monthly_trips = pd.read_parquet(\"./data/yellow_tripdata_\" + date + \".parquet\", engine='pyarrow')\n",
    "            \n",
    "        except:\n",
    "            url = \"https://s3.amazonaws.com/nyc-tlc/trip+data/yellow_tripdata_\" + date + \".parquet\"\n",
    "            response = requests.get(url, allow_redirects=True)\n",
    "            open(\"./data/yellow_tripdata_\" + date + \".parquet\", \"wb\").write(response.content)\n",
    "            monthly_trips = pd.read_parquet(\"./data/yellow_tripdata_\" + date + \".parquet\", engine='pyarrow')\n",
    "            \n",
    "        taxi_trips = pd.concat([taxi_trips, monthly_trips])\n",
    "            \n",
    "    taxi_trips = clean_yellow_taxi_data(taxi_trips)\n",
    "        \n",
    "    return taxi_trips\n",
    "\n",
    "def scatterplot(df, var1, var2):\n",
    "    \"\"\"Given two variables of a df makes a scatter plot\"\"\"\n",
    "    data = pd.concat([df[var1], df[var2]], axis=1)\n",
    "    data.plot.scatter(x=var1 , y=var2)"
   ]
  },
  {
   "cell_type": "code",
   "execution_count": 12,
   "id": "8bf4a8f6",
   "metadata": {},
   "outputs": [],
   "source": [
    "def cross_val(model):\n",
    "    pred = cross_val_score(model, X, y, cv=10)\n",
    "    return pred.mean()\n",
    "\n",
    "def print_evaluate(true, predicted):  \n",
    "    mae = metrics.mean_absolute_error(true, predicted)\n",
    "    mse = metrics.mean_squared_error(true, predicted)\n",
    "    rmse = np.sqrt(metrics.mean_squared_error(true, predicted))\n",
    "    r2_square = metrics.r2_score(true, predicted)\n",
    "    print('MAE:', mae)\n",
    "    print('MSE:', mse)\n",
    "    print('RMSE:', rmse)\n",
    "    print('R2 Square', r2_square)\n",
    "    print('__________________________________')\n",
    "    \n",
    "def evaluate(true, predicted):\n",
    "    mae = metrics.mean_absolute_error(true, predicted)\n",
    "    mse = metrics.mean_squared_error(true, predicted)\n",
    "    rmse = np.sqrt(metrics.mean_squared_error(true, predicted))\n",
    "    r2_square = metrics.r2_score(true, predicted)\n",
    "    return mae, mse, rmse, r2_square"
   ]
  },
  {
   "cell_type": "code",
   "execution_count": 13,
   "id": "9953808c",
   "metadata": {},
   "outputs": [],
   "source": [
    "month_request = [3, 6, 11]\n",
    "year = 2017\n",
    "taxi_trips_2017 = get_cleaned_data(month_request, year)"
   ]
  },
  {
   "cell_type": "markdown",
   "id": "d68dd4ff",
   "metadata": {},
   "source": [
    "#### Normalization <a id=\"norm\" ></a>\n",
    "\n",
    "[Back to contents](#intro)"
   ]
  },
  {
   "cell_type": "code",
   "execution_count": 4,
   "id": "880922eb",
   "metadata": {},
   "outputs": [
    {
     "data": {
      "text/plain": [
       "<AxesSubplot:>"
      ]
     },
     "execution_count": 4,
     "metadata": {},
     "output_type": "execute_result"
    },
    {
     "data": {
      "image/png": "[encoded data removed]",
      "text/plain": [
       "<Figure size 864x432 with 1 Axes>"
      ]
     },
     "metadata": {
      "needs_background": "light"
     },
     "output_type": "display_data"
    }
   ],
   "source": [
    "taxi_trips_2017.tip_amount.hist(bins=100, figsize=(12,6), density=True)"
   ]
  },
  {
   "cell_type": "code",
   "execution_count": null,
   "id": "f363ff7b",
   "metadata": {},
   "outputs": [
    {
     "name": "stdout",
     "output_type": "stream",
     "text": [
      "Resulting lambda Box-Cox is:  -0.00917977476125686\n"
     ]
    },
    {
     "name": "stderr",
     "output_type": "stream",
     "text": [
      "C:\\Users\\berta\\anaconda3\\envs\\taxi_nyc\\lib\\site-packages\\seaborn\\distributions.py:2619: FutureWarning: `distplot` is a deprecated function and will be removed in a future version. Please adapt your code to use either `displot` (a figure-level function with similar flexibility) or `histplot` (an axes-level function for histograms).\n",
      "  warnings.warn(msg, FutureWarning)\n",
      "C:\\Users\\berta\\anaconda3\\envs\\taxi_nyc\\lib\\site-packages\\seaborn\\distributions.py:2619: FutureWarning: `distplot` is a deprecated function and will be removed in a future version. Please adapt your code to use either `displot` (a figure-level function with similar flexibility) or `histplot` (an axes-level function for histograms).\n",
      "  warnings.warn(msg, FutureWarning)\n",
      "C:\\Users\\berta\\anaconda3\\envs\\taxi_nyc\\lib\\site-packages\\seaborn\\distributions.py:2619: FutureWarning: `distplot` is a deprecated function and will be removed in a future version. Please adapt your code to use either `displot` (a figure-level function with similar flexibility) or `histplot` (an axes-level function for histograms).\n",
      "  warnings.warn(msg, FutureWarning)\n"
     ]
    }
   ],
   "source": [
    "# Firs of all, let's drop 0 values due to is interesting that our app suggests always a tip amount\n",
    "taxi_trips_2017 = taxi_trips_2017.drop(taxi_trips_2017[taxi_trips_2017.tip_amount == 0].index)\n",
    "\n",
    "# (A) Box-Cox transformation to reduce variance\n",
    "boxcox_data,fitted_lambda = stats.boxcox(taxi_trips_2017['tip_amount'])\n",
    "print(\"Resulting lambda Box-Cox is: \", fitted_lambda)\n",
    "taxi_trips_2017['tip_amount_BOXCOX'] = boxcox_data\n",
    "\n",
    "# (B) log transformation\n",
    "taxi_trips_2017['tip_amount_LOG'] =  np.log(taxi_trips_2017['tip_amount'])\n",
    "\n",
    "# Compare the data\n",
    "# Plot the data before and after the transformations\n",
    "fig = plt.figure(figsize=(15,12))\n",
    "ax1 = plt.subplot2grid((2,3), (0,0), colspan=1)\n",
    "ax2 = plt.subplot2grid((2,3), (0,1), colspan=1)\n",
    "ax3 = plt.subplot2grid((2,3), (0,2), colspan=1)\n",
    "ax4 = plt.subplot2grid((2,3), (1,0), colspan=3)\n",
    "sns.distplot(taxi_trips_2017['tip_amount'], hist=True, kde=True, \n",
    "             bins=int(180/5), color = 'darkblue', \n",
    "             hist_kws={'edgecolor':'black'},\n",
    "             kde_kws={'linewidth': 4}, ax=ax1)\n",
    "sns.distplot(taxi_trips_2017['tip_amount_BOXCOX'], hist=True, kde=True, \n",
    "             bins=int(180/5), color = 'darkblue', \n",
    "             hist_kws={'edgecolor':'black'},\n",
    "             kde_kws={'linewidth': 4}, ax=ax2)\n",
    "sns.distplot(taxi_trips_2017['tip_amount_LOG'], hist=True, kde=True, \n",
    "             bins=int(180/5), color = 'darkblue', \n",
    "             hist_kws={'edgecolor':'black'},\n",
    "             kde_kws={'linewidth': 4}, ax=ax3);\n",
    "\n",
    "taxi_trips_2017['tip_amount_BOXCOX'].plot(ax=ax4, c='indianred', label=\"Box-Cox\")\n",
    "taxi_trips_2017['tip_amount_LOG'].plot(ax=ax4, c='royalblue', label=\"Logarítmica\")\n",
    "ax4.set_ylim(0,20)\n",
    "ax4.legend();"
   ]
  },
  {
   "cell_type": "code",
   "execution_count": 12,
   "id": "9a4eeb6f",
   "metadata": {},
   "outputs": [
    {
     "data": {
      "image/png": "[encoded data removed]",
      "text/plain": [
       "<Figure size 432x288 with 1 Axes>"
      ]
     },
     "metadata": {
      "needs_background": "light"
     },
     "output_type": "display_data"
    }
   ],
   "source": [
    "stats.probplot(taxi_trips_2017[\"tip_amount\"],plot=pylab)\n",
    "plt.show()"
   ]
  },
  {
   "cell_type": "code",
   "execution_count": 15,
   "id": "8e13c4fb",
   "metadata": {},
   "outputs": [
    {
     "data": {
      "image/png": "[encoded data removed]",
      "text/plain": [
       "<Figure size 432x288 with 1 Axes>"
      ]
     },
     "metadata": {
      "needs_background": "light"
     },
     "output_type": "display_data"
    }
   ],
   "source": [
    "scatterplot(taxi_trips_2017, \"tip_amount\", \"trip_distance\")"
   ]
  },
  {
   "cell_type": "code",
   "execution_count": 16,
   "id": "ae6e5626",
   "metadata": {},
   "outputs": [
    {
     "data": {
      "image/png": "[encoded data removed]",
      "text/plain": [
       "<Figure size 432x288 with 1 Axes>"
      ]
     },
     "metadata": {
      "needs_background": "light"
     },
     "output_type": "display_data"
    }
   ],
   "source": [
    "scatterplot(taxi_trips_2017, \"tip_amount\", \"avg_speed\")"
   ]
  },
  {
   "cell_type": "markdown",
   "id": "8f535450",
   "metadata": {},
   "source": [
    "There are high tip amount observations which are not following the crowd but it is not evidence to consider them as outliers"
   ]
  },
  {
   "cell_type": "markdown",
   "id": "86800267",
   "metadata": {},
   "source": [
    "#### Model building <a id=\"model\" ></a>\n",
    "\n",
    "[Back to contents](#intro)"
   ]
  },
  {
   "cell_type": "markdown",
   "id": "4bc16d00",
   "metadata": {},
   "source": [
    "At this point, let's try some simple (with low number of parameters) regression models. In that sense, linear models are usually an option when the solution must be explained to third parts. Besides, if simple works.."
   ]
  },
  {
   "cell_type": "code",
   "execution_count": 27,
   "id": "1b640169",
   "metadata": {
    "scrolled": false
   },
   "outputs": [
    {
     "name": "stdout",
     "output_type": "stream",
     "text": [
      "Loading: Lineear Regressor\n",
      "_____________________________________\n"
     ]
    },
    {
     "name": "stderr",
     "output_type": "stream",
     "text": [
      "C:\\Users\\berta\\anaconda3\\envs\\taxi_nyc\\lib\\site-packages\\sklearn\\linear_model\\_base.py:141: FutureWarning: 'normalize' was deprecated in version 1.0 and will be removed in 1.2.\n",
      "If you wish to scale the data, use Pipeline with a StandardScaler in a preprocessing stage. To reproduce the previous behavior:\n",
      "\n",
      "from sklearn.pipeline import make_pipeline\n",
      "\n",
      "model = make_pipeline(StandardScaler(with_mean=False), LinearRegression())\n",
      "\n",
      "If you wish to pass a sample_weight parameter, you need to pass it as a fit parameter to each step of the pipeline as follows:\n",
      "\n",
      "kwargs = {s[0] + '__sample_weight': sample_weight for s in model.steps}\n",
      "model.fit(X, y, **kwargs)\n",
      "\n",
      "\n",
      "  warnings.warn(\n"
     ]
    },
    {
     "name": "stdout",
     "output_type": "stream",
     "text": [
      "Test set evaluation:\n",
      "_____________________________________\n",
      "MAE: 0.5997290067435587\n",
      "MSE: 2.1850883406856756\n",
      "RMSE: 1.4782044312900957\n",
      "R2 Square 0.7013617750050334\n",
      "__________________________________\n",
      "Train set evaluation:\n",
      "_____________________________________\n",
      "MAE: 0.5987178633331967\n",
      "MSE: 2.075795976354776\n",
      "RMSE: 1.4407622900238526\n",
      "R2 Square 0.713164482117882\n",
      "__________________________________\n",
      "Loading: Ridge Regressor:\n",
      "_____________________________________\n",
      "Test set evaluation\n",
      "_____________________________________\n",
      "MAE: 0.5997284731534438\n",
      "MSE: 2.1850882463494066\n",
      "RMSE: 1.4782043993810214\n",
      "R2 Square 0.7013617878980662\n",
      "__________________________________\n",
      "====================================\n",
      "Train set evaluation:\n",
      "_____________________________________\n",
      "MAE: 0.5987173312349621\n",
      "MSE: 2.0757959763852325\n",
      "RMSE: 1.4407622900344221\n",
      "R2 Square 0.7131644821136734\n",
      "__________________________________\n"
     ]
    },
    {
     "name": "stderr",
     "output_type": "stream",
     "text": [
      "C:\\Users\\berta\\AppData\\Local\\Temp\\ipykernel_27488\\882591338.py:46: FutureWarning: The frame.append method is deprecated and will be removed from pandas in a future version. Use pandas.concat instead.\n",
      "  results_df = results_df.append(results_df_2, ignore_index=True)\n"
     ]
    },
    {
     "name": "stdout",
     "output_type": "stream",
     "text": [
      "Loading: Lasso Regressor\n",
      "_____________________________________\n",
      "Test set evaluation:\n",
      "_____________________________________\n",
      "MAE: 0.596218149496008\n",
      "MSE: 2.1936805391047214\n",
      "RMSE: 1.481107875579872\n",
      "R2 Square 0.7001874705904745\n",
      "__________________________________\n",
      "====================================\n",
      "Train set evaluation:\n",
      "_____________________________________\n",
      "MAE: 0.5952154673618645\n",
      "MSE: 2.0851993817876826\n",
      "RMSE: 1.4440219464356083\n",
      "R2 Square 0.7118651103598059\n",
      "__________________________________\n"
     ]
    },
    {
     "name": "stderr",
     "output_type": "stream",
     "text": [
      "C:\\Users\\berta\\AppData\\Local\\Temp\\ipykernel_27488\\882591338.py:69: FutureWarning: The frame.append method is deprecated and will be removed from pandas in a future version. Use pandas.concat instead.\n",
      "  results_df = results_df.append(results_df_2, ignore_index=True)\n"
     ]
    }
   ],
   "source": [
    "X = taxi_trips_2017[['fare_amount', 'trip_distance', 'tolls_amount', 'RatecodeID',\n",
    "               'avg_speed', 'weekday', 'hour']]\n",
    "y = taxi_trips_2017['tip_amount']\n",
    "\n",
    "X_train, X_test, y_train, y_test = train_test_split(X, y, test_size=0.3, random_state=42)\n",
    "\n",
    "pipeline = Pipeline([\n",
    "    ('std_scalar', StandardScaler())\n",
    "])\n",
    "\n",
    "print('Loading: Lineear Regressor\\n_____________________________________')\n",
    "\n",
    "lin_reg = LinearRegression(normalize=True)\n",
    "lin_reg.fit(X_train,y_train)\n",
    "\n",
    "pred = lin_reg.predict(X_test)\n",
    "\n",
    "test_pred = lin_reg.predict(X_test)\n",
    "train_pred = lin_reg.predict(X_train)\n",
    "\n",
    "print('Test set evaluation:\\n_____________________________________')\n",
    "print_evaluate(y_test, test_pred)\n",
    "print('Train set evaluation:\\n_____________________________________')\n",
    "print_evaluate(y_train, train_pred)\n",
    "\n",
    "results_df = pd.DataFrame(data=[[\"Linear Regression\", *evaluate(y_test, test_pred) , cross_val(LinearRegression())]], \n",
    "                          columns=['Model', 'MAE', 'MSE', 'RMSE', 'R2 Square', \"Cross Validation\"])\n",
    "\n",
    "print('Loading: Ridge Regressor:\\n_____________________________________')\n",
    "\n",
    "model = Ridge(alpha=100, solver='cholesky', tol=0.0001, random_state=42)\n",
    "model.fit(X_train, y_train)\n",
    "pred = model.predict(X_test)\n",
    "\n",
    "test_pred = model.predict(X_test)\n",
    "train_pred = model.predict(X_train)\n",
    "\n",
    "print('Test set evaluation\\n_____________________________________')\n",
    "print_evaluate(y_test, test_pred)\n",
    "print('====================================')\n",
    "print('Train set evaluation:\\n_____________________________________')\n",
    "print_evaluate(y_train, train_pred)\n",
    "\n",
    "results_df_2 = pd.DataFrame(data=[[\"Ridge Regression\", *evaluate(y_test, test_pred) , cross_val(Ridge())]], \n",
    "                            columns=['Model', 'MAE', 'MSE', 'RMSE', 'R2 Square', \"Cross Validation\"])\n",
    "results_df = results_df.append(results_df_2, ignore_index=True)\n",
    "\n",
    "print('Loading: Lasso Regressor\\n_____________________________________')\n",
    "\n",
    "model = Lasso(alpha=0.1, \n",
    "              precompute=True, \n",
    "#               warm_start=True, \n",
    "              positive=True, \n",
    "              selection='random',\n",
    "              random_state=42)\n",
    "model.fit(X_train, y_train)\n",
    "\n",
    "test_pred = model.predict(X_test)\n",
    "train_pred = model.predict(X_train)\n",
    "\n",
    "print('Test set evaluation:\\n_____________________________________')\n",
    "print_evaluate(y_test, test_pred)\n",
    "print('====================================')\n",
    "print('Train set evaluation:\\n_____________________________________')\n",
    "print_evaluate(y_train, train_pred)\n",
    "\n",
    "results_df_2 = pd.DataFrame(data=[[\"Lasso Regression\", *evaluate(y_test, test_pred) , cross_val(Lasso())]], \n",
    "                            columns=['Model', 'MAE', 'MSE', 'RMSE', 'R2 Square', \"Cross Validation\"])\n",
    "results_df = results_df.append(results_df_2, ignore_index=True)"
   ]
  },
  {
   "cell_type": "code",
   "execution_count": 16,
   "id": "83398900",
   "metadata": {},
   "outputs": [
    {
     "name": "stdout",
     "output_type": "stream",
     "text": [
      "Loading: Lineear Regressor\n",
      "_____________________________________\n"
     ]
    },
    {
     "name": "stderr",
     "output_type": "stream",
     "text": [
      "C:\\Users\\berta\\anaconda3\\envs\\taxi_nyc\\lib\\site-packages\\sklearn\\linear_model\\_base.py:141: FutureWarning: 'normalize' was deprecated in version 1.0 and will be removed in 1.2.\n",
      "If you wish to scale the data, use Pipeline with a StandardScaler in a preprocessing stage. To reproduce the previous behavior:\n",
      "\n",
      "from sklearn.pipeline import make_pipeline\n",
      "\n",
      "model = make_pipeline(StandardScaler(with_mean=False), LinearRegression())\n",
      "\n",
      "If you wish to pass a sample_weight parameter, you need to pass it as a fit parameter to each step of the pipeline as follows:\n",
      "\n",
      "kwargs = {s[0] + '__sample_weight': sample_weight for s in model.steps}\n",
      "model.fit(X, y, **kwargs)\n",
      "\n",
      "\n",
      "  warnings.warn(\n"
     ]
    },
    {
     "name": "stdout",
     "output_type": "stream",
     "text": [
      "Test set evaluation:\n",
      "_____________________________________\n",
      "MAE: 1.3302606014696865\n",
      "MSE: 4.169663911178142\n",
      "RMSE: 2.0419754923059537\n",
      "R2 Square 0.3692252756522526\n",
      "__________________________________\n",
      "Train set evaluation:\n",
      "_____________________________________\n",
      "MAE: 1.331163954782916\n",
      "MSE: 4.138049678331819\n",
      "RMSE: 2.0342196730765876\n",
      "R2 Square 0.37047814835318604\n",
      "__________________________________\n",
      "Loading: Ridge Regressor:\n",
      "_____________________________________\n",
      "Test set evaluation\n",
      "_____________________________________\n",
      "MAE: 1.3302606090798106\n",
      "MSE: 4.169663932310271\n",
      "RMSE: 2.041975497480386\n",
      "R2 Square 0.3692252724554451\n",
      "__________________________________\n",
      "====================================\n",
      "Train set evaluation:\n",
      "_____________________________________\n",
      "MAE: 1.3311639623005438\n",
      "MSE: 4.138049678331919\n",
      "RMSE: 2.0342196730766124\n",
      "R2 Square 0.3704781483531707\n",
      "__________________________________\n"
     ]
    },
    {
     "name": "stderr",
     "output_type": "stream",
     "text": [
      "C:\\Users\\berta\\AppData\\Local\\Temp\\ipykernel_20468\\1553810047.py:45: FutureWarning: The frame.append method is deprecated and will be removed from pandas in a future version. Use pandas.concat instead.\n",
      "  results_df = results_df.append(results_df_2, ignore_index=True)\n"
     ]
    },
    {
     "name": "stdout",
     "output_type": "stream",
     "text": [
      "Loading: Lasso Regressor\n",
      "_____________________________________\n",
      "Test set evaluation:\n",
      "_____________________________________\n",
      "MAE: 1.3322454090802265\n",
      "MSE: 4.178183260260091\n",
      "RMSE: 2.044060483513169\n",
      "R2 Square 0.3679364931068819\n",
      "__________________________________\n",
      "====================================\n",
      "Train set evaluation:\n",
      "_____________________________________\n",
      "MAE: 1.3331506824382884\n",
      "MSE: 4.143761893055772\n",
      "RMSE: 2.035623219816421\n",
      "R2 Square 0.3696091486384516\n",
      "__________________________________\n"
     ]
    },
    {
     "name": "stderr",
     "output_type": "stream",
     "text": [
      "C:\\Users\\berta\\AppData\\Local\\Temp\\ipykernel_20468\\1553810047.py:68: FutureWarning: The frame.append method is deprecated and will be removed from pandas in a future version. Use pandas.concat instead.\n",
      "  results_df = results_df.append(results_df_2, ignore_index=True)\n"
     ]
    }
   ],
   "source": [
    "X = taxi_trips_2017[['fare_amount', 'trip_distance', 'tolls_amount', 'hour']]\n",
    "y = taxi_trips_2017['tip_amount']\n",
    "\n",
    "X_train, X_test, y_train, y_test = train_test_split(X, y, test_size=0.3, random_state=42)\n",
    "\n",
    "pipeline = Pipeline([\n",
    "    ('std_scalar', StandardScaler())\n",
    "])\n",
    "\n",
    "print('Loading: Lineear Regressor\\n_____________________________________')\n",
    "\n",
    "lin_reg = LinearRegression(normalize=True)\n",
    "lin_reg.fit(X_train,y_train)\n",
    "\n",
    "pred = lin_reg.predict(X_test)\n",
    "\n",
    "test_pred = lin_reg.predict(X_test)\n",
    "train_pred = lin_reg.predict(X_train)\n",
    "\n",
    "print('Test set evaluation:\\n_____________________________________')\n",
    "print_evaluate(y_test, test_pred)\n",
    "print('Train set evaluation:\\n_____________________________________')\n",
    "print_evaluate(y_train, train_pred)\n",
    "\n",
    "results_df = pd.DataFrame(data=[[\"Linear Regression\", *evaluate(y_test, test_pred) , cross_val(LinearRegression())]], \n",
    "                          columns=['Model', 'MAE', 'MSE', 'RMSE', 'R2 Square', \"Cross Validation\"])\n",
    "\n",
    "print('Loading: Ridge Regressor:\\n_____________________________________')\n",
    "\n",
    "model = Ridge(alpha=100, solver='cholesky', tol=0.0001, random_state=42)\n",
    "model.fit(X_train, y_train)\n",
    "pred = model.predict(X_test)\n",
    "\n",
    "test_pred = model.predict(X_test)\n",
    "train_pred = model.predict(X_train)\n",
    "\n",
    "print('Test set evaluation\\n_____________________________________')\n",
    "print_evaluate(y_test, test_pred)\n",
    "print('====================================')\n",
    "print('Train set evaluation:\\n_____________________________________')\n",
    "print_evaluate(y_train, train_pred)\n",
    "\n",
    "results_df_2 = pd.DataFrame(data=[[\"Ridge Regression\", *evaluate(y_test, test_pred) , cross_val(Ridge())]], \n",
    "                            columns=['Model', 'MAE', 'MSE', 'RMSE', 'R2 Square', \"Cross Validation\"])\n",
    "results_df = results_df.append(results_df_2, ignore_index=True)\n",
    "\n",
    "print('Loading: Lasso Regressor\\n_____________________________________')\n",
    "\n",
    "model = Lasso(alpha=0.1, \n",
    "              precompute=True, \n",
    "#               warm_start=True, \n",
    "              positive=True, \n",
    "              selection='random',\n",
    "              random_state=42)\n",
    "model.fit(X_train, y_train)\n",
    "\n",
    "test_pred = model.predict(X_test)\n",
    "train_pred = model.predict(X_train)\n",
    "\n",
    "print('Test set evaluation:\\n_____________________________________')\n",
    "print_evaluate(y_test, test_pred)\n",
    "print('====================================')\n",
    "print('Train set evaluation:\\n_____________________________________')\n",
    "print_evaluate(y_train, train_pred)\n",
    "\n",
    "results_df_2 = pd.DataFrame(data=[[\"Lasso Regression\", *evaluate(y_test, test_pred) , cross_val(Lasso())]], \n",
    "                            columns=['Model', 'MAE', 'MSE', 'RMSE', 'R2 Square', \"Cross Validation\"])\n",
    "results_df = results_df.append(results_df_2, ignore_index=True)"
   ]
  },
  {
   "cell_type": "markdown",
   "id": "595b1ee7",
   "metadata": {},
   "source": [
    "**Linear regressor** offers better results than the rest of models"
   ]
  },
  {
   "cell_type": "markdown",
   "id": "9e20d83a",
   "metadata": {},
   "source": [
    "I have tried simple models (with low number of parameters) in order to make a first approximation for predicting tip amounts. Regarding the results, the use of more variables returns better solutions (according to the R2 square).\n",
    "In order to improve the model estimations, the are some possible solutions:\n",
    "\n",
    "    1. Transforming input variables to set sronger relationships\n",
    "    2. Training the model with a higher dataset\n",
    "    3. Adding external data sources such as the weather, borought population or borought rent per capita.\n",
    "    "
   ]
  },
  {
   "cell_type": "markdown",
   "id": "7c2dfec2",
   "metadata": {},
   "source": [
    "#### Conclusions and final thoughts <a id=\"conc\" ></a>\n",
    "\n",
    "[Back to contents](#intro)"
   ]
  },
  {
   "cell_type": "markdown",
   "id": "df1b64e4",
   "metadata": {},
   "source": [
    "Next steps to complete the problem should be:\n",
    "    \n",
    "    1. Train new models in order to get more accurate predictions\n",
    "    2. Transform the rest of variables for getting strong relationships among them\n",
    "    3. Check the full-time availability of all input variables before the implementation. If not some options can be taken into a account:\n",
    "        \n",
    "        3.1. Stablish a default value for tips suggestion\n",
    "        3.2. Develop a simple model based on always-available data (maybe related to the location) in order to suggest an accurate tip amount\n",
    "        \n",
    "    4. Having an API will be great in order to get the data in real-time but first some issues must be discussed:\n",
    "        \n",
    "        4.1. How fast does predict the model? Maybe, in super short trips async APIs do not work well. In that sense, the model must be able to predict in miliseconds to get an accurate system.\n",
    "        4.2. What about non-availability of inputs? Right now, the model is not abe to deal with no entries so it must suggest a tip amount.\n",
    "        4.3. Error management: related to the previous point, the API must offer a tip amount always, even if a terrible thing happens."
   ]
  }
 ],
 "metadata": {
  "kernelspec": {
   "display_name": "Python 3 (ipykernel)",
   "language": "python",
   "name": "python3"
  },
  "language_info": {
   "codemirror_mode": {
    "name": "ipython",
    "version": 3
   },
   "file_extension": ".py",
   "mimetype": "text/x-python",
   "name": "python",
   "nbconvert_exporter": "python",
   "pygments_lexer": "ipython3",
   "version": "3.8.13"
  }
 },
 "nbformat": 4,
 "nbformat_minor": 5
}
